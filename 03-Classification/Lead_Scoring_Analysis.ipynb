{
  "cells": [
    {
      "cell_type": "markdown",
      "metadata": {},
      "source": [
        "# Lead Scoring Analysis \n",
        "\n",
        "\n",
        "- filling missing values (categorical → 'NA', numerical → 0.0)\n",
        "- train/val/test split (60/20/20)  (seed 4)\n",
        "- mutual information on categorical features (train set only)\n",
        "- logistic regression with one-hot encoding (solver='liblinear', C=1.0, max_iter=1000, random_state=42)\n",
        "- leave-one-out style feature elimination for three features\n",
        "- tuning `C` over [0.01, 0.1, 1, 10, 100]\n",
        "\n",
        "\n"
      ]
    },
    {
      "cell_type": "code",
      "execution_count": 1,
      "metadata": {},
      "outputs": [],
      "source": [
        "# Imports\n",
        "import pandas as pd\n",
        "import numpy as np\n",
        "from sklearn.model_selection import train_test_split\n",
        "from sklearn.feature_selection import mutual_info_classif\n",
        "from sklearn.linear_model import LogisticRegression\n",
        "from sklearn.metrics import accuracy_score\n",
        "import matplotlib.pyplot as plt\n",
        "%matplotlib inline\n"
      ]
    },
    {
      "cell_type": "code",
      "execution_count": 2,
      "metadata": {},
      "outputs": [
        {
          "name": "stdout",
          "output_type": "stream",
          "text": [
            "Loaded rows,cols: (1462, 9)\n"
          ]
        },
        {
          "data": {
            "text/html": [
              "<div>\n",
              "<style scoped>\n",
              "    .dataframe tbody tr th:only-of-type {\n",
              "        vertical-align: middle;\n",
              "    }\n",
              "\n",
              "    .dataframe tbody tr th {\n",
              "        vertical-align: top;\n",
              "    }\n",
              "\n",
              "    .dataframe thead th {\n",
              "        text-align: right;\n",
              "    }\n",
              "</style>\n",
              "<table border=\"1\" class=\"dataframe\">\n",
              "  <thead>\n",
              "    <tr style=\"text-align: right;\">\n",
              "      <th></th>\n",
              "      <th>lead_source</th>\n",
              "      <th>industry</th>\n",
              "      <th>number_of_courses_viewed</th>\n",
              "      <th>annual_income</th>\n",
              "      <th>employment_status</th>\n",
              "      <th>location</th>\n",
              "      <th>interaction_count</th>\n",
              "      <th>lead_score</th>\n",
              "      <th>converted</th>\n",
              "    </tr>\n",
              "  </thead>\n",
              "  <tbody>\n",
              "    <tr>\n",
              "      <th>0</th>\n",
              "      <td>paid_ads</td>\n",
              "      <td>NaN</td>\n",
              "      <td>1</td>\n",
              "      <td>79450.0</td>\n",
              "      <td>unemployed</td>\n",
              "      <td>south_america</td>\n",
              "      <td>4</td>\n",
              "      <td>0.94</td>\n",
              "      <td>1</td>\n",
              "    </tr>\n",
              "    <tr>\n",
              "      <th>1</th>\n",
              "      <td>social_media</td>\n",
              "      <td>retail</td>\n",
              "      <td>1</td>\n",
              "      <td>46992.0</td>\n",
              "      <td>employed</td>\n",
              "      <td>south_america</td>\n",
              "      <td>1</td>\n",
              "      <td>0.80</td>\n",
              "      <td>0</td>\n",
              "    </tr>\n",
              "    <tr>\n",
              "      <th>2</th>\n",
              "      <td>events</td>\n",
              "      <td>healthcare</td>\n",
              "      <td>5</td>\n",
              "      <td>78796.0</td>\n",
              "      <td>unemployed</td>\n",
              "      <td>australia</td>\n",
              "      <td>3</td>\n",
              "      <td>0.69</td>\n",
              "      <td>1</td>\n",
              "    </tr>\n",
              "    <tr>\n",
              "      <th>3</th>\n",
              "      <td>paid_ads</td>\n",
              "      <td>retail</td>\n",
              "      <td>2</td>\n",
              "      <td>83843.0</td>\n",
              "      <td>NaN</td>\n",
              "      <td>australia</td>\n",
              "      <td>1</td>\n",
              "      <td>0.87</td>\n",
              "      <td>0</td>\n",
              "    </tr>\n",
              "    <tr>\n",
              "      <th>4</th>\n",
              "      <td>referral</td>\n",
              "      <td>education</td>\n",
              "      <td>3</td>\n",
              "      <td>85012.0</td>\n",
              "      <td>self_employed</td>\n",
              "      <td>europe</td>\n",
              "      <td>3</td>\n",
              "      <td>0.62</td>\n",
              "      <td>1</td>\n",
              "    </tr>\n",
              "  </tbody>\n",
              "</table>\n",
              "</div>"
            ],
            "text/plain": [
              "    lead_source    industry  number_of_courses_viewed  annual_income  \\\n",
              "0      paid_ads         NaN                         1        79450.0   \n",
              "1  social_media      retail                         1        46992.0   \n",
              "2        events  healthcare                         5        78796.0   \n",
              "3      paid_ads      retail                         2        83843.0   \n",
              "4      referral   education                         3        85012.0   \n",
              "\n",
              "  employment_status       location  interaction_count  lead_score  converted  \n",
              "0        unemployed  south_america                  4        0.94          1  \n",
              "1          employed  south_america                  1        0.80          0  \n",
              "2        unemployed      australia                  3        0.69          1  \n",
              "3               NaN      australia                  1        0.87          0  \n",
              "4     self_employed         europe                  3        0.62          1  "
            ]
          },
          "execution_count": 2,
          "metadata": {},
          "output_type": "execute_result"
        }
      ],
      "source": [
        "# 1. Load data\n",
        "url = 'https://raw.githubusercontent.com/alexeygrigorev/datasets/master/course_lead_scoring.csv'\n",
        "df = pd.read_csv(url)\n",
        "print('Loaded rows,cols:', df.shape)\n",
        "df.head()\n"
      ]
    },
    {
      "cell_type": "code",
      "execution_count": 3,
      "metadata": {},
      "outputs": [
        {
          "name": "stdout",
          "output_type": "stream",
          "text": [
            "Categorical: ['lead_source', 'industry', 'employment_status', 'location']\n",
            "Numerical: ['number_of_courses_viewed', 'annual_income', 'interaction_count', 'lead_score']\n",
            "\n",
            "Missing values after fill:\n",
            "lead_source                 0\n",
            "industry                    0\n",
            "number_of_courses_viewed    0\n",
            "annual_income               0\n",
            "employment_status           0\n",
            "location                    0\n",
            "interaction_count           0\n",
            "lead_score                  0\n",
            "converted                   0\n",
            "dtype: int64\n"
          ]
        }
      ],
      "source": [
        "# 2. Data preparation per instructions\n",
        "target = 'converted'\n",
        "categorical = df.select_dtypes(include=['object']).columns.tolist()\n",
        "numerical = [c for c in df.select_dtypes(include=[np.number]).columns.tolist() if c != target]\n",
        "print('Categorical:', categorical)\n",
        "print('Numerical:', numerical)\n",
        "\n",
        "df_prep = df.copy()\n",
        "for c in categorical:\n",
        "    df_prep[c] = df_prep[c].fillna('NA')\n",
        "for c in numerical:\n",
        "    df_prep[c] = df_prep[c].fillna(0.0)\n",
        "\n",
        "print('\\nMissing values after fill:')\n",
        "print(df_prep.isna().sum())\n"
      ]
    },
    {
      "cell_type": "code",
      "execution_count": 4,
      "metadata": {},
      "outputs": [
        {
          "name": "stdout",
          "output_type": "stream",
          "text": [
            "Q1 — mode of industry: retail\n"
          ]
        }
      ],
      "source": [
        "# Q1: mode of industry\n",
        "industry_mode = df_prep['industry'].mode().iloc[0]\n",
        "print('Q1 — mode of industry:', industry_mode)\n"
      ]
    },
    {
      "cell_type": "code",
      "execution_count": 5,
      "metadata": {},
      "outputs": [
        {
          "data": {
            "text/html": [
              "<div>\n",
              "<style scoped>\n",
              "    .dataframe tbody tr th:only-of-type {\n",
              "        vertical-align: middle;\n",
              "    }\n",
              "\n",
              "    .dataframe tbody tr th {\n",
              "        vertical-align: top;\n",
              "    }\n",
              "\n",
              "    .dataframe thead th {\n",
              "        text-align: right;\n",
              "    }\n",
              "</style>\n",
              "<table border=\"1\" class=\"dataframe\">\n",
              "  <thead>\n",
              "    <tr style=\"text-align: right;\">\n",
              "      <th></th>\n",
              "      <th>number_of_courses_viewed</th>\n",
              "      <th>annual_income</th>\n",
              "      <th>interaction_count</th>\n",
              "      <th>lead_score</th>\n",
              "    </tr>\n",
              "  </thead>\n",
              "  <tbody>\n",
              "    <tr>\n",
              "      <th>number_of_courses_viewed</th>\n",
              "      <td>1.000000</td>\n",
              "      <td>0.009770</td>\n",
              "      <td>-0.023565</td>\n",
              "      <td>-0.004879</td>\n",
              "    </tr>\n",
              "    <tr>\n",
              "      <th>annual_income</th>\n",
              "      <td>0.009770</td>\n",
              "      <td>1.000000</td>\n",
              "      <td>0.027036</td>\n",
              "      <td>0.015610</td>\n",
              "    </tr>\n",
              "    <tr>\n",
              "      <th>interaction_count</th>\n",
              "      <td>-0.023565</td>\n",
              "      <td>0.027036</td>\n",
              "      <td>1.000000</td>\n",
              "      <td>0.009888</td>\n",
              "    </tr>\n",
              "    <tr>\n",
              "      <th>lead_score</th>\n",
              "      <td>-0.004879</td>\n",
              "      <td>0.015610</td>\n",
              "      <td>0.009888</td>\n",
              "      <td>1.000000</td>\n",
              "    </tr>\n",
              "  </tbody>\n",
              "</table>\n",
              "</div>"
            ],
            "text/plain": [
              "                          number_of_courses_viewed  annual_income  \\\n",
              "number_of_courses_viewed                  1.000000       0.009770   \n",
              "annual_income                             0.009770       1.000000   \n",
              "interaction_count                        -0.023565       0.027036   \n",
              "lead_score                               -0.004879       0.015610   \n",
              "\n",
              "                          interaction_count  lead_score  \n",
              "number_of_courses_viewed          -0.023565   -0.004879  \n",
              "annual_income                      0.027036    0.015610  \n",
              "interaction_count                  1.000000    0.009888  \n",
              "lead_score                         0.009888    1.000000  "
            ]
          },
          "metadata": {},
          "output_type": "display_data"
        },
        {
          "name": "stdout",
          "output_type": "stream",
          "text": [
            "('interaction_count', 'lead_score') 0.009888182496913131\n",
            "('number_of_courses_viewed', 'lead_score') -0.004878998354681276\n",
            "('number_of_courses_viewed', 'interaction_count') -0.023565222882888037\n",
            "('annual_income', 'interaction_count') 0.02703647240481443\n"
          ]
        }
      ],
      "source": [
        "# Correlation matrix among numerical features and Q2 candidates\n",
        "corr = df_prep[numerical].corr()\n",
        "display(corr)\n",
        "candidates = [\n",
        "    ('interaction_count', 'lead_score'),\n",
        "    ('number_of_courses_viewed', 'lead_score'),\n",
        "    ('number_of_courses_viewed', 'interaction_count'),\n",
        "    ('annual_income', 'interaction_count'),\n",
        "]\n",
        "for p in candidates:\n",
        "    print(p, corr.loc[p[0], p[1]])\n"
      ]
    },
    {
      "cell_type": "code",
      "execution_count": 6,
      "metadata": {},
      "outputs": [
        {
          "name": "stdout",
          "output_type": "stream",
          "text": [
            "Sizes: train, val, test = 877 292 293\n"
          ]
        }
      ],
      "source": [
        "# Split data (60/20/20) with stratify and seed=42\n",
        "X = df_prep.drop(columns=[target])\n",
        "y = df_prep[target].astype(int)\n",
        "X_train, X_temp, y_train, y_temp = train_test_split(X, y, test_size=0.4, random_state=4, stratify=y)\n",
        "X_val, X_test, y_val, y_test = train_test_split(X_temp, y_temp, test_size=0.5, random_state=4, stratify=y_temp)\n",
        "print('Sizes: train, val, test =', X_train.shape[0], X_val.shape[0], X_test.shape[0])\n"
      ]
    },
    {
      "cell_type": "code",
      "execution_count": 7,
      "metadata": {},
      "outputs": [
        {
          "name": "stdout",
          "output_type": "stream",
          "text": [
            "Mutual information scores (train set):\n",
            "{'lead_source': 0.02, 'industry': 0.01, 'employment_status': 0.02, 'location': 0.0}\n"
          ]
        }
      ],
      "source": [
        "# Q3: mutual information on categorical variables (train only)\n",
        "cat_features = categorical\n",
        "X_train_cat = X_train[cat_features].apply(lambda col: col.astype('category').cat.codes)\n",
        "mi = mutual_info_classif(X_train_cat, y_train, discrete_features=True, random_state=42)\n",
        "mi_scores = {c: round(float(s), 2) for c, s in zip(cat_features, mi)}\n",
        "print('Mutual information scores (train set):')\n",
        "print(mi_scores)\n"
      ]
    },
    {
      "cell_type": "code",
      "execution_count": 8,
      "metadata": {},
      "outputs": [
        {
          "name": "stdout",
          "output_type": "stream",
          "text": [
            "Q4 — validation accuracy: 0.75\n"
          ]
        }
      ],
      "source": [
        "# Q4: logistic regression with one-hot encoding\n",
        "X_train_full = pd.get_dummies(X_train, drop_first=False)\n",
        "X_val_full = pd.get_dummies(X_val, drop_first=False)\n",
        "X_train_full, X_val_full = X_train_full.align(X_val_full, join='left', axis=1, fill_value=0)\n",
        "model = LogisticRegression(solver='liblinear', C=1.0, max_iter=1000, random_state=42)\n",
        "model.fit(X_train_full, y_train)\n",
        "y_val_pred = model.predict(X_val_full)\n",
        "acc_val = accuracy_score(y_val, y_val_pred)\n",
        "print('Q4 — validation accuracy:', round(acc_val, 2))\n"
      ]
    },
    {
      "cell_type": "code",
      "execution_count": 9,
      "metadata": {},
      "outputs": [
        {
          "name": "stdout",
          "output_type": "stream",
          "text": [
            "Removed industry: val_acc=0.750000, diff=0.003425\n",
            "Removed employment_status: val_acc=0.746575, diff=0.006849\n",
            "Removed lead_score: val_acc=0.750000, diff=0.003425\n",
            "\n",
            "Feature with smallest absolute diff: ('industry', 0.003424657534246589)\n"
          ]
        }
      ],
      "source": [
        "# Q5: leave-one-out style feature elimination for selected features\n",
        "baseline_acc = acc_val\n",
        "features_to_test = ['industry', 'employment_status', 'lead_score']\n",
        "diffs = {}\n",
        "for feat in features_to_test:\n",
        "    Xtr = X_train.drop(columns=[feat])\n",
        "    Xv = X_val.drop(columns=[feat])\n",
        "    Xtr_enc = pd.get_dummies(Xtr, drop_first=False)\n",
        "    Xv_enc = pd.get_dummies(Xv, drop_first=False)\n",
        "    Xtr_enc, Xv_enc = Xtr_enc.align(Xv_enc, join='left', axis=1, fill_value=0)\n",
        "    m = LogisticRegression(solver='liblinear', C=1.0, max_iter=1000, random_state=42)\n",
        "    m.fit(Xtr_enc, y_train)\n",
        "    yv_pred = m.predict(Xv_enc)\n",
        "    acc = accuracy_score(y_val, yv_pred)\n",
        "    diffs[feat] = baseline_acc - acc\n",
        "    print(f'Removed {feat}: val_acc={acc:.6f}, diff={diffs[feat]:.6f}')\n",
        "print('\\nFeature with smallest absolute diff:', min(diffs.items(), key=lambda x: abs(x[1])))\n"
      ]
    },
    {
      "cell_type": "code",
      "execution_count": 10,
      "metadata": {},
      "outputs": [
        {
          "name": "stdout",
          "output_type": "stream",
          "text": [
            "C=0.01: val_acc=0.743\n",
            "C=0.1: val_acc=0.753\n",
            "C=1: val_acc=0.753\n",
            "C=10: val_acc=0.753\n",
            "C=100: val_acc=0.753\n",
            "\n",
            "Best C (smallest among best): 0.1\n"
          ]
        },
        {
          "name": "stderr",
          "output_type": "stream",
          "text": [
            "Bad pipe message: %s [b'\"Microsoft Edge\";v=\"141\", \"Not?A_Brand\";v=\"8\", \"Chromium\"']\n",
            "Bad pipe message: %s [b'=\"141\"\\r\\nsec-ch-ua-mobile: ?0\\r\\nsec-ch-ua-platform: \"Windows']\n",
            "Bad pipe message: %s [b'\\nUpgrade-Insecure-Requests: 1\\r\\nUs', b'-Agent: Mozilla/5.0 (Windows NT 10.0; Win64; x64) AppleWebKit/537.36 (KHTML, like Gecko) Chrome/141.']\n",
            "Bad pipe message: %s [b'0.0 Safari/537.36 Edg/141.0.0.0\\r\\nAccept: text/h']\n",
            "Bad pipe message: %s [b'ol: max-age=0\\r\\nsec-ch-ua: \"Microsoft Edge\";v=\"141\", \"Not?A_Brand\";v=\"8\", \"Chromium\";v=\"141\"\\r\\nsec-ch-ua-mobile: ?0\\r\\n']\n",
            "Bad pipe message: %s [b'c-ch-ua-platform: \"Windows\"\\r\\nUpgrade-Insecure-Requests: 1\\r\\nUser-Agent: Mozilla/5.0 (Windows NT 10.0; Win64; x64) A', b'leWebKit/537.36 (KHTML, like Gecko) Chrome/141.0.0.0 Safari/537.36 Edg/141.0.0.0\\r\\nAccept: text/html,application']\n",
            "Bad pipe message: %s [b'html+xml,application/xml;q=0.9,image/avif,imag']\n",
            "Bad pipe message: %s [b'\"Microsoft Edge\";v=\"141\", \"Not?A_Brand\";v=\"8\", \"Chromium\"']\n",
            "Bad pipe message: %s [b'=\"141\"\\r\\nsec-ch-ua-mobile: ?0\\r\\nsec-ch-ua-platform: \"Windows']\n",
            "Bad pipe message: %s [b'\\nUpgrade-Insecure-Requests: 1\\r\\nUs', b'-Agent: Mozilla/5.0 (Windows NT 10.0; Win64; x64) AppleWebKit/537.36 (KHTML, like Gecko) Chrome/141.']\n",
            "Bad pipe message: %s [b'0.0 Safari/537.36 Edg/141.0.0.0\\r\\nAccept: text/h']\n",
            "Bad pipe message: %s [b'ol: max-age=0\\r\\nsec-ch-ua: \"Microsoft Edge\";v=\"141\", \"Not?A_Brand\";v=\"8\", \"Chromium\";v=\"141\"\\r\\nsec-ch-ua-mobile: ?0\\r\\n']\n",
            "Bad pipe message: %s [b'c-ch-ua-platform: \"Windows\"\\r\\nUpgrade-Insecure-Requests: 1\\r\\nUser-Agent: Mozilla/5.0 (Windows NT 10.0; Win64; x64) A', b'leWebKit/537.36 (KHTML, like Gecko) Chrome/141.0.0.0 Safari/537.36 Edg/141.0.0.0\\r\\nAccept: text/html,application']\n",
            "Bad pipe message: %s [b'html+xml,application/xml;q=0.9,image/avif,imag']\n"
          ]
        }
      ],
      "source": [
        "# Q6: try different C values\n",
        "Cs = [0.01, 0.1, 1, 10, 100]\n",
        "accs_by_C = {}\n",
        "for C in Cs:\n",
        "    m = LogisticRegression(solver='liblinear', C=C, max_iter=1000, random_state=42)\n",
        "    m.fit(X_train_full, y_train)\n",
        "    yv_pred = m.predict(X_val_full)\n",
        "    acc = accuracy_score(y_val, yv_pred)\n",
        "    accs_by_C[C] = round(acc, 3)\n",
        "    print(f'C={C}: val_acc={accs_by_C[C]}')\n",
        "best_C = min([C for C, a in accs_by_C.items() if a == max(accs_by_C.values())])\n",
        "print('\\nBest C (smallest among best):', best_C)\n"
      ]
    },
    {
      "cell_type": "markdown",
      "id": "0d8f2e57",
      "metadata": {},
      "source": [
        "***END"
      ]
    },
    {
      "cell_type": "code",
      "execution_count": null,
      "id": "b3e58775",
      "metadata": {},
      "outputs": [],
      "source": []
    }
  ],
  "metadata": {
    "kernelspec": {
      "display_name": "Python 3",
      "language": "python",
      "name": "python3"
    },
    "language_info": {
      "codemirror_mode": {
        "name": "ipython",
        "version": 3
      },
      "file_extension": ".py",
      "mimetype": "text/x-python",
      "name": "python",
      "nbconvert_exporter": "python",
      "pygments_lexer": "ipython3",
      "version": "3.12.1"
    }
  },
  "nbformat": 4,
  "nbformat_minor": 5
}
