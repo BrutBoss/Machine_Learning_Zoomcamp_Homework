{
 "cells": [
  {
   "cell_type": "code",
   "execution_count": 1,
   "id": "d96ef63c-a307-4e9c-85e5-d79fa34d4238",
   "metadata": {},
   "outputs": [],
   "source": [
    "import pandas as pd\n"
   ]
  },
  {
   "cell_type": "markdown",
   "id": "da029302-b182-45eb-a405-90eebf7ab735",
   "metadata": {},
   "source": [
    "Q1. Pandas version"
   ]
  },
  {
   "cell_type": "code",
   "execution_count": 2,
   "id": "65c40558-dca4-45b1-aa08-7a3c52f7108b",
   "metadata": {},
   "outputs": [
    {
     "data": {
      "text/plain": [
       "'2.3.1'"
      ]
     },
     "execution_count": 2,
     "metadata": {},
     "output_type": "execute_result"
    }
   ],
   "source": [
    "pd.__version__\n"
   ]
  },
  {
   "cell_type": "code",
   "execution_count": 4,
   "id": "f3f19adc-7f46-4b53-aa76-5e218ce103ce",
   "metadata": {},
   "outputs": [],
   "source": [
    "df = pd.read_csv(\"https://raw.githubusercontent.com/alexeygrigorev/datasets/master/car_fuel_efficiency.csv\")"
   ]
  },
  {
   "cell_type": "markdown",
   "id": "1f61d0dc-8c77-401d-9b79-aa6fc6681715",
   "metadata": {},
   "source": [
    "Q2. Records count\n"
   ]
  },
  {
   "cell_type": "code",
   "execution_count": 5,
   "id": "bbb49ba9-746f-484e-bed9-af7431106ccb",
   "metadata": {},
   "outputs": [
    {
     "data": {
      "text/plain": [
       "9704"
      ]
     },
     "execution_count": 5,
     "metadata": {},
     "output_type": "execute_result"
    }
   ],
   "source": [
    "len(df)"
   ]
  },
  {
   "cell_type": "markdown",
   "id": "c166f412-f034-4671-a5ba-d4617997734e",
   "metadata": {},
   "source": [
    "Q3. Fuel types"
   ]
  },
  {
   "cell_type": "code",
   "execution_count": 8,
   "id": "5640059f-e1d2-4688-8cf6-287f2456b890",
   "metadata": {},
   "outputs": [
    {
     "data": {
      "text/plain": [
       "2"
      ]
     },
     "execution_count": 8,
     "metadata": {},
     "output_type": "execute_result"
    }
   ],
   "source": [
    "df['fuel_type'].nunique()"
   ]
  },
  {
   "cell_type": "markdown",
   "id": "3afa8b77-2bf5-4d86-a031-126ee7e4534c",
   "metadata": {},
   "source": [
    "Q4. Missing values"
   ]
  },
  {
   "cell_type": "code",
   "execution_count": 10,
   "id": "48229303-fce6-4477-abc4-e47046ce143c",
   "metadata": {},
   "outputs": [
    {
     "name": "stdout",
     "output_type": "stream",
     "text": [
      "4\n"
     ]
    }
   ],
   "source": [
    "missing_columns = df.isnull().any()\n",
    "missing_columns_count = missing_columns.sum()\n",
    "print(missing_columns_count)"
   ]
  },
  {
   "cell_type": "markdown",
   "id": "ba4c4f45-0401-49dd-ac7a-6d34b3c5ce42",
   "metadata": {},
   "source": [
    "Q5. Max fuel efficiency"
   ]
  },
  {
   "cell_type": "code",
   "execution_count": 14,
   "id": "395ef848-5eb2-4b3c-9fe5-b8d0013ffec7",
   "metadata": {},
   "outputs": [
    {
     "data": {
      "text/plain": [
       "np.float64(23.759122836520497)"
      ]
     },
     "execution_count": 14,
     "metadata": {},
     "output_type": "execute_result"
    }
   ],
   "source": [
    "df[df['origin'] == 'Asia']['fuel_efficiency_mpg'].max()"
   ]
  },
  {
   "cell_type": "markdown",
   "id": "4405ea08-737a-46bf-8004-bd760726cfb0",
   "metadata": {},
   "source": [
    "Q6. Median value of horsepower"
   ]
  },
  {
   "cell_type": "code",
   "execution_count": 15,
   "id": "48ea4c23-9c11-4c51-bfe4-d7b4b9e53be6",
   "metadata": {},
   "outputs": [
    {
     "name": "stdout",
     "output_type": "stream",
     "text": [
      "Q6. Median horsepower before: 149.0\n",
      "Q6. Most frequent horsepower value: 152.0\n",
      "Q6. Median horsepower after: 152.0\n",
      "Q6. Has it changed? Yes, it increased\n"
     ]
    }
   ],
   "source": [
    "median_before = df['horsepower'].median()\n",
    "most_freq = df['horsepower'].mode()[0]\n",
    "df['horsepower_filled'] = df['horsepower'].fillna(most_freq)\n",
    "median_after = df['horsepower_filled'].median()\n",
    "\n",
    "print('Q6. Median horsepower before:', median_before)\n",
    "print('Q6. Most frequent horsepower value:', most_freq)\n",
    "print('Q6. Median horsepower after:', median_after)\n",
    "\n",
    "if median_before == median_after:\n",
    "    print('Q6. Has it changed? No')\n",
    "elif median_after > median_before:\n",
    "    print('Q6. Has it changed? Yes, it increased')\n",
    "else:\n",
    "    print('Q6. Has it changed? Yes, it decreased')"
   ]
  },
  {
   "cell_type": "markdown",
   "id": "929d194b-4094-4c35-ae1e-4372c5610db9",
   "metadata": {},
   "source": [
    "Q7. Linear algebra task (sum of weights)"
   ]
  },
  {
   "cell_type": "code",
   "execution_count": 21,
   "id": "54aeed0c-212c-40a3-847b-2d45a681f929",
   "metadata": {},
   "outputs": [
    {
     "name": "stdout",
     "output_type": "stream",
     "text": [
      "Q7. Weights vector: [0.01386421 0.5049067 ]\n",
      "Q7. Sum of weights: 0.5187709081074016\n"
     ]
    }
   ],
   "source": [
    "import numpy as np\n",
    "\n",
    "asia_cars = df[df['origin'] == 'Asia']\n",
    "selected = asia_cars[['vehicle_weight', 'model_year']].head(7)\n",
    "X = selected.values\n",
    "\n",
    "XTX = X.T.dot(X)\n",
    "XTX_inv = np.linalg.inv(XTX)\n",
    "\n",
    "y = np.array([1100, 1300, 800, 900, 1000, 1100, 1200])\n",
    "w = XTX_inv.dot(X.T).dot(y)\n",
    "\n",
    "print('Q7. Weights vector:', w)\n",
    "print('Q7. Sum of weights:', w.sum())"
   ]
  },
  {
   "cell_type": "code",
   "execution_count": null,
   "id": "71d54d81-6462-4274-88d7-ed98fea005cf",
   "metadata": {},
   "outputs": [],
   "source": []
  }
 ],
 "metadata": {
  "kernelspec": {
   "display_name": "Python 3 (ipykernel)",
   "language": "python",
   "name": "python3"
  },
  "language_info": {
   "codemirror_mode": {
    "name": "ipython",
    "version": 3
   },
   "file_extension": ".py",
   "mimetype": "text/x-python",
   "name": "python",
   "nbconvert_exporter": "python",
   "pygments_lexer": "ipython3",
   "version": "3.12.1"
  }
 },
 "nbformat": 4,
 "nbformat_minor": 5
}
