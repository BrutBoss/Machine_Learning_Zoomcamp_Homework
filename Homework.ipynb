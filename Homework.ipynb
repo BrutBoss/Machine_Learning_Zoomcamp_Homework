{
 "cells": [
  {
   "cell_type": "code",
   "execution_count": null,
   "id": "05956484-53ef-4fcf-a200-1fab4025ba7e",
   "metadata": {},
   "outputs": [],
   "source": [
    "#import dependencies\n",
    "\n",
    "import pandas as pd\n",
    "import numpy as np\n",
    "import seaborn as sns\n",
    "from matplotlib import pyplot as plt\n",
    "%matplotlib inline\n"
   ]
  },
  {
   "cell_type": "markdown",
   "id": "22851e78-a103-40db-a585-8865774252f4",
   "metadata": {},
   "source": [
    "#Download the data"
   ]
  },
  {
   "cell_type": "code",
   "execution_count": null,
   "id": "a0518814-fcb5-41b1-9aca-30ecfddab76a",
   "metadata": {},
   "outputs": [
    {
     "name": "stderr",
     "output_type": "stream",
     "text": [
      "  % Total    % Received % Xferd  Average Speed   Time    Time     Time  Current\n",
      "                                 Dload  Upload   Total   Spent    Left  Speed\n",
      "\n",
      "  0     0    0     0    0     0      0      0 --:--:-- --:--:-- --:--:--     0\n",
      "  0  853k    0     0    0     0      0      0 --:--:-- --:--:-- --:--:--     0\n",
      "100  853k  100  853k    0     0  1382k      0 --:--:-- --:--:-- --:--:-- 1385k\n"
     ]
    }
   ],
   "source": [
    "!curl -o car_fuel_efficiency.csv \"https://raw.githubusercontent.com/alexeygrigorev/datasets/master/car_fuel_efficiency.csv\""
   ]
  },
  {
   "cell_type": "code",
   "execution_count": null,
   "id": "bf5db732-1cb7-42ab-95cb-2e58643df478",
   "metadata": {},
   "outputs": [],
   "source": [
    "df = pd.read_csv ('car_fuel_efficiency.csv')"
   ]
  },
  {
   "cell_type": "code",
   "execution_count": null,
   "id": "1c6de441-ac60-476c-a6f0-08abc03a318d",
   "metadata": {},
   "outputs": [
    {
     "data": {
      "text/html": [
       "<div>\n",
       "<style scoped>\n",
       "    .dataframe tbody tr th:only-of-type {\n",
       "        vertical-align: middle;\n",
       "    }\n",
       "\n",
       "    .dataframe tbody tr th {\n",
       "        vertical-align: top;\n",
       "    }\n",
       "\n",
       "    .dataframe thead th {\n",
       "        text-align: right;\n",
       "    }\n",
       "</style>\n",
       "<table border=\"1\" class=\"dataframe\">\n",
       "  <thead>\n",
       "    <tr style=\"text-align: right;\">\n",
       "      <th></th>\n",
       "      <th>engine_displacement</th>\n",
       "      <th>num_cylinders</th>\n",
       "      <th>horsepower</th>\n",
       "      <th>vehicle_weight</th>\n",
       "      <th>acceleration</th>\n",
       "      <th>model_year</th>\n",
       "      <th>origin</th>\n",
       "      <th>fuel_type</th>\n",
       "      <th>drivetrain</th>\n",
       "      <th>num_doors</th>\n",
       "      <th>fuel_efficiency_mpg</th>\n",
       "    </tr>\n",
       "  </thead>\n",
       "  <tbody>\n",
       "    <tr>\n",
       "      <th>0</th>\n",
       "      <td>170</td>\n",
       "      <td>3.0</td>\n",
       "      <td>159.0</td>\n",
       "      <td>3413.433759</td>\n",
       "      <td>17.7</td>\n",
       "      <td>2003</td>\n",
       "      <td>Europe</td>\n",
       "      <td>Gasoline</td>\n",
       "      <td>All-wheel drive</td>\n",
       "      <td>0.0</td>\n",
       "      <td>13.231729</td>\n",
       "    </tr>\n",
       "    <tr>\n",
       "      <th>1</th>\n",
       "      <td>130</td>\n",
       "      <td>5.0</td>\n",
       "      <td>97.0</td>\n",
       "      <td>3149.664934</td>\n",
       "      <td>17.8</td>\n",
       "      <td>2007</td>\n",
       "      <td>USA</td>\n",
       "      <td>Gasoline</td>\n",
       "      <td>Front-wheel drive</td>\n",
       "      <td>0.0</td>\n",
       "      <td>13.688217</td>\n",
       "    </tr>\n",
       "    <tr>\n",
       "      <th>2</th>\n",
       "      <td>170</td>\n",
       "      <td>NaN</td>\n",
       "      <td>78.0</td>\n",
       "      <td>3079.038997</td>\n",
       "      <td>15.1</td>\n",
       "      <td>2018</td>\n",
       "      <td>Europe</td>\n",
       "      <td>Gasoline</td>\n",
       "      <td>Front-wheel drive</td>\n",
       "      <td>0.0</td>\n",
       "      <td>14.246341</td>\n",
       "    </tr>\n",
       "    <tr>\n",
       "      <th>3</th>\n",
       "      <td>220</td>\n",
       "      <td>4.0</td>\n",
       "      <td>NaN</td>\n",
       "      <td>2542.392402</td>\n",
       "      <td>20.2</td>\n",
       "      <td>2009</td>\n",
       "      <td>USA</td>\n",
       "      <td>Diesel</td>\n",
       "      <td>All-wheel drive</td>\n",
       "      <td>2.0</td>\n",
       "      <td>16.912736</td>\n",
       "    </tr>\n",
       "    <tr>\n",
       "      <th>4</th>\n",
       "      <td>210</td>\n",
       "      <td>1.0</td>\n",
       "      <td>140.0</td>\n",
       "      <td>3460.870990</td>\n",
       "      <td>14.4</td>\n",
       "      <td>2009</td>\n",
       "      <td>Europe</td>\n",
       "      <td>Gasoline</td>\n",
       "      <td>All-wheel drive</td>\n",
       "      <td>2.0</td>\n",
       "      <td>12.488369</td>\n",
       "    </tr>\n",
       "  </tbody>\n",
       "</table>\n",
       "</div>"
      ],
      "text/plain": [
       "   engine_displacement  num_cylinders  horsepower  vehicle_weight  \\\n",
       "0                  170            3.0       159.0     3413.433759   \n",
       "1                  130            5.0        97.0     3149.664934   \n",
       "2                  170            NaN        78.0     3079.038997   \n",
       "3                  220            4.0         NaN     2542.392402   \n",
       "4                  210            1.0       140.0     3460.870990   \n",
       "\n",
       "   acceleration  model_year  origin fuel_type         drivetrain  num_doors  \\\n",
       "0          17.7        2003  Europe  Gasoline    All-wheel drive        0.0   \n",
       "1          17.8        2007     USA  Gasoline  Front-wheel drive        0.0   \n",
       "2          15.1        2018  Europe  Gasoline  Front-wheel drive        0.0   \n",
       "3          20.2        2009     USA    Diesel    All-wheel drive        2.0   \n",
       "4          14.4        2009  Europe  Gasoline    All-wheel drive        2.0   \n",
       "\n",
       "   fuel_efficiency_mpg  \n",
       "0            13.231729  \n",
       "1            13.688217  \n",
       "2            14.246341  \n",
       "3            16.912736  \n",
       "4            12.488369  "
      ]
     },
     "execution_count": 32,
     "metadata": {},
     "output_type": "execute_result"
    }
   ],
   "source": [
    "df.head()"
   ]
  },
  {
   "cell_type": "code",
   "execution_count": null,
   "id": "edd18ef2-0808-425b-b549-bd1f05fe0972",
   "metadata": {},
   "outputs": [],
   "source": [
    "# Select specific columns\n",
    "selected_columns = ['engine_displacement','horsepower','vehicle_weight','model_year','fuel_efficiency_mpg']\n",
    "df_dataset = df[selected_columns]\n"
   ]
  },
  {
   "cell_type": "code",
   "execution_count": null,
   "id": "f102c0d2-9826-4db5-9326-1da056f79090",
   "metadata": {},
   "outputs": [
    {
     "data": {
      "text/html": [
       "<div>\n",
       "<style scoped>\n",
       "    .dataframe tbody tr th:only-of-type {\n",
       "        vertical-align: middle;\n",
       "    }\n",
       "\n",
       "    .dataframe tbody tr th {\n",
       "        vertical-align: top;\n",
       "    }\n",
       "\n",
       "    .dataframe thead th {\n",
       "        text-align: right;\n",
       "    }\n",
       "</style>\n",
       "<table border=\"1\" class=\"dataframe\">\n",
       "  <thead>\n",
       "    <tr style=\"text-align: right;\">\n",
       "      <th></th>\n",
       "      <th>engine_displacement</th>\n",
       "      <th>horsepower</th>\n",
       "      <th>vehicle_weight</th>\n",
       "      <th>model_year</th>\n",
       "      <th>fuel_efficiency_mpg</th>\n",
       "    </tr>\n",
       "  </thead>\n",
       "  <tbody>\n",
       "    <tr>\n",
       "      <th>0</th>\n",
       "      <td>170</td>\n",
       "      <td>159.0</td>\n",
       "      <td>3413.433759</td>\n",
       "      <td>2003</td>\n",
       "      <td>13.231729</td>\n",
       "    </tr>\n",
       "    <tr>\n",
       "      <th>1</th>\n",
       "      <td>130</td>\n",
       "      <td>97.0</td>\n",
       "      <td>3149.664934</td>\n",
       "      <td>2007</td>\n",
       "      <td>13.688217</td>\n",
       "    </tr>\n",
       "    <tr>\n",
       "      <th>2</th>\n",
       "      <td>170</td>\n",
       "      <td>78.0</td>\n",
       "      <td>3079.038997</td>\n",
       "      <td>2018</td>\n",
       "      <td>14.246341</td>\n",
       "    </tr>\n",
       "    <tr>\n",
       "      <th>3</th>\n",
       "      <td>220</td>\n",
       "      <td>NaN</td>\n",
       "      <td>2542.392402</td>\n",
       "      <td>2009</td>\n",
       "      <td>16.912736</td>\n",
       "    </tr>\n",
       "    <tr>\n",
       "      <th>4</th>\n",
       "      <td>210</td>\n",
       "      <td>140.0</td>\n",
       "      <td>3460.870990</td>\n",
       "      <td>2009</td>\n",
       "      <td>12.488369</td>\n",
       "    </tr>\n",
       "  </tbody>\n",
       "</table>\n",
       "</div>"
      ],
      "text/plain": [
       "   engine_displacement  horsepower  vehicle_weight  model_year  \\\n",
       "0                  170       159.0     3413.433759        2003   \n",
       "1                  130        97.0     3149.664934        2007   \n",
       "2                  170        78.0     3079.038997        2018   \n",
       "3                  220         NaN     2542.392402        2009   \n",
       "4                  210       140.0     3460.870990        2009   \n",
       "\n",
       "   fuel_efficiency_mpg  \n",
       "0            13.231729  \n",
       "1            13.688217  \n",
       "2            14.246341  \n",
       "3            16.912736  \n",
       "4            12.488369  "
      ]
     },
     "execution_count": 34,
     "metadata": {},
     "output_type": "execute_result"
    }
   ],
   "source": [
    "df_dataset.head()"
   ]
  },
  {
   "cell_type": "markdown",
   "id": "ec5d4c3d-85fa-4511-99c7-cd797643ef15",
   "metadata": {},
   "source": [
    "Exploratory Data Analysis (EDA)"
   ]
  },
  {
   "cell_type": "code",
   "execution_count": null,
   "id": "af9f6374-c0fc-461a-adc5-c9c84f7a6374",
   "metadata": {},
   "outputs": [
    {
     "data": {
      "image/png": "[encoded data removed]",
      "text/plain": [
       "<Figure size 800x400 with 1 Axes>"
      ]
     },
     "metadata": {},
     "output_type": "display_data"
    }
   ],
   "source": [
    "# Plot histogram of the target variable\n",
    "plt.figure(figsize=(8, 4))\n",
    "plt.hist(df['fuel_efficiency_mpg'].dropna(), bins=40)\n",
    "plt.title('Histogram: fuel_efficiency_mpg')\n",
    "plt.xlabel('fuel_efficiency_mpg')\n",
    "plt.ylabel('count')\n",
    "plt.show()\n"
   ]
  },
  {
   "cell_type": "markdown",
   "id": "32fdd49d-4899-4b4b-ad23-8e79ce81d977",
   "metadata": {},
   "source": [
    "Validation framework"
   ]
  },
  {
   "cell_type": "code",
   "execution_count": null,
   "id": "7efe576b-55da-4da4-885f-53c9001ee2cf",
   "metadata": {},
   "outputs": [],
   "source": [
    "from typing import Tuple\n",
    "\n",
    "def shuffle_split(df: pd.DataFrame, seed: int = 42) -> Tuple[pd.DataFrame, pd.DataFrame, pd.DataFrame]:\n",
    "    \"\"\"\n",
    "    Shuffle the dataframe using the seed and then split\n",
    "    into train/val/test with 60% / 20% / 20% proportions.\n",
    "\n",
    "    Returns: (train_df, val_df, test_df) with indices reset.\n",
    "    \"\"\"\n",
    "    np.random.seed(seed)\n",
    "    perm = np.random.permutation(len(df))  \n",
    "\n",
    "    n = len(df)\n",
    "    n_train = int(0.6 * n)\n",
    "    n_val = int(0.2 * n)\n",
    "\n",
    "    train_idx = perm[:n_train]\n",
    "    val_idx = perm[n_train:n_train + n_val]\n",
    "    test_idx = perm[n_train + n_val:]\n",
    "\n",
    "    # return copies with reset index (makes later code simpler)\n",
    "    return df.iloc[train_idx].reset_index(drop=True), \\\n",
    "           df.iloc[val_idx].reset_index(drop=True), \\\n",
    "           df.iloc[test_idx].reset_index(drop=True)\n",
    "\n",
    "\n",
    "def prepare_X(df: pd.DataFrame, fill_value=None, fill_with_mean: bool=False, mean_vals: dict=None):\n",
    "    \"\"\"\n",
    "    - Prepare design matrix X (with bias column) and target y.\n",
    "    - If fill_with_mean is True, fill horsepower NA with mean_vals['horsepower'] (computed on train only).\n",
    "    - Otherwise fill horsepower with fill_value (e.g., 0).\n",
    "    \"\"\"\n",
    "    df2 = df.copy()\n",
    "    if fill_with_mean:\n",
    "        df2['horsepower'] = df2['horsepower'].fillna(mean_vals['horsepower'])\n",
    "    else:\n",
    "        df2['horsepower'] = df2['horsepower'].fillna(fill_value)\n",
    "\n",
    "    features = ['engine_displacement','horsepower','vehicle_weight','model_year']\n",
    "    X = df2[features].values.astype(float)\n",
    "    y = df2['fuel_efficiency_mpg'].values.astype(float)\n",
    "\n",
    "    # Add bias (intercept) column of ones at the first column\n",
    "    X = np.hstack([np.ones((X.shape[0], 1)), X])\n",
    "    return X, y\n",
    "\n",
    "def rmse(y_true: np.ndarray, y_pred: np.ndarray) -> float:\n",
    "    \"\"\"Compute root mean squared error.\"\"\"\n",
    "    return np.sqrt(np.mean((y_true - y_pred) ** 2))"
   ]
  },
  {
   "cell_type": "markdown",
   "id": "bc3e5e57-a480-4da8-a7fc-5b14294cb7df",
   "metadata": {},
   "source": [
    "Linear Regression"
   ]
  },
  {
   "cell_type": "code",
   "execution_count": null,
   "id": "c210c7e1-dc3c-4cc9-9c48-ca0b25eface5",
   "metadata": {},
   "outputs": [],
   "source": [
    "\n",
    "def linear_regression_closed_form(X: np.ndarray, y: np.ndarray, r: float = 0.0) -> np.ndarray:\n",
    "    \"\"\"Compute weights using normal equation with optional L2 regularization (ridge).\n",
    "\n",
    "    Regularization is NOT applied to the bias term (w[0]) by setting reg[0,0]=0.\n",
    "    \"\"\"\n",
    "    XT_X = X.T.dot(X)\n",
    "    reg = np.eye(XT_X.shape[0]) * r\n",
    "    reg[0,0] = 0.0\n",
    "    w = np.linalg.solve(XT_X + reg, X.T.dot(y))\n",
    "    return w"
   ]
  },
  {
   "cell_type": "code",
   "execution_count": null,
   "id": "c217d1e0-1240-4994-9f80-58bad0b0e761",
   "metadata": {},
   "outputs": [],
   "source": []
  },
  {
   "cell_type": "markdown",
   "id": "07c90ec6-79cb-4f65-a990-88a8756909c4",
   "metadata": {},
   "source": [
    "Q1: column with missing values"
   ]
  },
  {
   "cell_type": "code",
   "execution_count": null,
   "id": "ec845b14-89e7-4ba0-97d7-227a86a74cfe",
   "metadata": {},
   "outputs": [
    {
     "data": {
      "text/plain": [
       "engine_displacement      0\n",
       "horsepower             708\n",
       "vehicle_weight           0\n",
       "model_year               0\n",
       "fuel_efficiency_mpg      0\n",
       "dtype: int64"
      ]
     },
     "execution_count": 38,
     "metadata": {},
     "output_type": "execute_result"
    }
   ],
   "source": [
    "# Missing values per column\n",
    "df_dataset.isnull().sum()"
   ]
  },
  {
   "cell_type": "markdown",
   "id": "9b1e1750-e251-48dc-b736-4d4ee2755875",
   "metadata": {},
   "source": [
    "Q2: median of horsepower (50th percentile)"
   ]
  },
  {
   "cell_type": "code",
   "execution_count": null,
   "id": "f31b373c-cfba-462f-bb72-9d8b46276d38",
   "metadata": {},
   "outputs": [
    {
     "name": "stdout",
     "output_type": "stream",
     "text": [
      "149.0\n"
     ]
    }
   ],
   "source": [
    "hp_median = df['horsepower'].median()\n",
    "print(hp_median)"
   ]
  },
  {
   "cell_type": "markdown",
   "id": "ceb17201-eb23-4dc9-91e7-4a7b3f43934a",
   "metadata": {},
   "source": [
    "Q4: Regularized linear regression"
   ]
  },
  {
   "cell_type": "code",
   "execution_count": null,
   "id": "224fa2ed-5d4e-450d-b919-4911c498793b",
   "metadata": {},
   "outputs": [
    {
     "name": "stdout",
     "output_type": "stream",
     "text": [
      "Validation RMSE for each r:\n",
      "r = 0 -> RMSE = 0.52\n",
      "r = 0.01 -> RMSE = 0.52\n",
      "r = 0.1 -> RMSE = 0.52\n",
      "r = 1 -> RMSE = 0.52\n",
      "r = 5 -> RMSE = 0.52\n",
      "r = 10 -> RMSE = 0.52\n",
      "r = 100 -> RMSE = 0.52\n",
      "\n",
      "Q4 answer: best r = 0\n"
     ]
    }
   ],
   "source": [
    "r_list = [0, 0.01, 0.1, 1, 5, 10, 100]\n",
    "train, val, test = shuffle_split(df, seed=42)\n",
    "X_train, y_train = prepare_X(train, fill_value=0)\n",
    "X_val, y_val = prepare_X(val, fill_value=0)\n",
    "\n",
    "rmse_by_r = {}\n",
    "for r in r_list:\n",
    "    w = linear_regression_closed_form(X_train, y_train, r=r)\n",
    "    pred_val = X_val.dot(w)\n",
    "    rmse_by_r[r] = round(rmse(y_val, pred_val), 2)\n",
    "\n",
    "print('Validation RMSE for each r:')\n",
    "for r, score in rmse_by_r.items():\n",
    "    print('r =', r, '-> RMSE =', score)\n",
    "\n",
    "# Choose smallest r among those with minimal RMSE\n",
    "best_r = min(rmse_by_r.items(), key=lambda kv: (kv[1], kv[0]))[0]\n",
    "print('\\nQ4 answer: best r =', best_r)"
   ]
  },
  {
   "cell_type": "markdown",
   "id": "d6215566-a3e4-45f1-9d93-2e05afd67173",
   "metadata": {},
   "source": [
    "Q5: Seed sensitivity analysis"
   ]
  },
  {
   "cell_type": "code",
   "execution_count": null,
   "id": "b7bbe6e8-bc6d-40d0-9ef6-1ff5b26b836e",
   "metadata": {},
   "outputs": [
    {
     "name": "stdout",
     "output_type": "stream",
     "text": [
      "RMSE scores for seeds [0, 1, 2, 3, 4, 5, 6, 7, 8, 9]\n",
      "[np.float64(0.521), np.float64(0.522), np.float64(0.523), np.float64(0.516), np.float64(0.511), np.float64(0.529), np.float64(0.532), np.float64(0.51), np.float64(0.515), np.float64(0.513)]\n",
      "\n",
      "Q5: std = 0.007\n"
     ]
    }
   ],
   "source": [
    "seeds = list(range(10))\n",
    "rmse_scores = []\n",
    "for s in seeds:\n",
    "    tr, va, te = shuffle_split(df, seed=s)\n",
    "    X_tr, y_tr = prepare_X(tr, fill_value=0)\n",
    "    X_va, y_va = prepare_X(va, fill_value=0)\n",
    "    w = linear_regression_closed_form(X_tr, y_tr, r=0.0)\n",
    "    pred_va = X_va.dot(w)\n",
    "    rmse_scores.append(rmse(y_va, pred_va))\n",
    "\n",
    "std_scores = round(np.std(rmse_scores), 3)\n",
    "print('RMSE scores for seeds', seeds)\n",
    "print([round(x, 3) for x in rmse_scores])\n",
    "print('\\nQ5: std =', std_scores)"
   ]
  },
  {
   "cell_type": "markdown",
   "id": "2462deba-7f3d-4833-ae58-e43adf2d95f7",
   "metadata": {},
   "source": [
    "Q6: Final model evaluation on test set"
   ]
  },
  {
   "cell_type": "code",
   "execution_count": null,
   "id": "74ef9e26-b0e2-47a1-8f16-5b7d482134c2",
   "metadata": {},
   "outputs": [
    {
     "name": "stdout",
     "output_type": "stream",
     "text": [
      "Q6: RMSE on test = 0.515\n"
     ]
    }
   ],
   "source": [
    "# Split with seed 9\n",
    "train, val, test = shuffle_split(df, seed=9)\n",
    "\n",
    "# Combine train + val for final training\n",
    "train_val = pd.concat([train, val]).reset_index(drop=True)\n",
    "\n",
    "# Prepare arrays, fill NA with 0\n",
    "X_trval, y_trval = prepare_X(train_val, fill_value=0)\n",
    "X_test, y_test = prepare_X(test, fill_value=0)\n",
    "\n",
    "# Fit with r = 0.001\n",
    "w = linear_regression_closed_form(X_trval, y_trval, r=0.001)\n",
    "\n",
    "# Evaluate on the test set\n",
    "pred_test = X_test.dot(w)\n",
    "rmse_test = round(rmse(y_test, pred_test), 3)\n",
    "print('Q6: RMSE on test =', rmse_test)"
   ]
  },
  {
   "cell_type": "code",
   "execution_count": null,
   "id": "57c35ed7-c73f-4036-bfe2-a3179cb24ef1",
   "metadata": {},
   "outputs": [],
   "source": []
  }
 ],
 "metadata": {
  "kernelspec": {
   "display_name": "ml-zoomcamp",
   "language": "python",
   "name": "python3"
  },
  "language_info": {
   "codemirror_mode": {
    "name": "ipython",
    "version": 3
   },
   "file_extension": ".py",
   "mimetype": "text/x-python",
   "name": "python",
   "nbconvert_exporter": "python",
   "pygments_lexer": "ipython3",
   "version": "3.11.13"
  }
 },
 "nbformat": 4,
 "nbformat_minor": 5
}
